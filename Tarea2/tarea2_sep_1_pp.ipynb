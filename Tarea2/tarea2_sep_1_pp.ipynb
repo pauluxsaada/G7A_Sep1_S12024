{
 "cells": [
  {
   "cell_type": "code",
   "execution_count": 3,
   "metadata": {},
   "outputs": [
    {
     "ename": "ImportError",
     "evalue": "cannot import name 'Inf' from 'numpy' (c:\\Users\\Paulux\\AppData\\Local\\Programs\\Python\\Python312\\Lib\\site-packages\\numpy\\__init__.py)",
     "output_type": "error",
     "traceback": [
      "\u001b[1;31m---------------------------------------------------------------------------\u001b[0m",
      "\u001b[1;31mImportError\u001b[0m                               Traceback (most recent call last)",
      "Cell \u001b[1;32mIn[3], line 3\u001b[0m\n\u001b[0;32m      1\u001b[0m \u001b[38;5;28;01mimport\u001b[39;00m \u001b[38;5;21;01mnumpy\u001b[39;00m \u001b[38;5;28;01mas\u001b[39;00m \u001b[38;5;21;01mnp\u001b[39;00m \u001b[38;5;66;03m# type: ignore\u001b[39;00m\n\u001b[0;32m      2\u001b[0m \u001b[38;5;28;01mimport\u001b[39;00m \u001b[38;5;21;01mpandas\u001b[39;00m \u001b[38;5;28;01mas\u001b[39;00m \u001b[38;5;21;01mpd\u001b[39;00m \u001b[38;5;66;03m# type: ignore\u001b[39;00m\n\u001b[1;32m----> 3\u001b[0m \u001b[38;5;28;01mimport\u001b[39;00m \u001b[38;5;21;01mpandapower\u001b[39;00m \u001b[38;5;28;01mas\u001b[39;00m \u001b[38;5;21;01mpp\u001b[39;00m \u001b[38;5;66;03m# type: ignore\u001b[39;00m\n\u001b[0;32m      4\u001b[0m \u001b[38;5;28;01mimport\u001b[39;00m \u001b[38;5;21;01mmatplotlib\u001b[39;00m\u001b[38;5;21;01m.\u001b[39;00m\u001b[38;5;21;01mpyplot\u001b[39;00m \u001b[38;5;28;01mas\u001b[39;00m \u001b[38;5;21;01mplt\u001b[39;00m \u001b[38;5;66;03m# type: ignore \u001b[39;00m\n\u001b[0;32m      5\u001b[0m \u001b[38;5;28;01mimport\u001b[39;00m \u001b[38;5;21;01mpandapower\u001b[39;00m\u001b[38;5;21;01m.\u001b[39;00m\u001b[38;5;21;01mplotting\u001b[39;00m \u001b[38;5;28;01mas\u001b[39;00m \u001b[38;5;21;01mplot\u001b[39;00m\n",
      "File \u001b[1;32mc:\\Users\\Paulux\\AppData\\Local\\Programs\\Python\\Python312\\Lib\\site-packages\\pandapower\\__init__.py:11\u001b[0m\n\u001b[0;32m      9\u001b[0m \u001b[38;5;28;01mfrom\u001b[39;00m \u001b[38;5;21;01mpandapower\u001b[39;00m\u001b[38;5;21;01m.\u001b[39;00m\u001b[38;5;21;01mfile_io\u001b[39;00m \u001b[38;5;28;01mimport\u001b[39;00m \u001b[38;5;241m*\u001b[39m\n\u001b[0;32m     10\u001b[0m \u001b[38;5;28;01mfrom\u001b[39;00m \u001b[38;5;21;01mpandapower\u001b[39;00m\u001b[38;5;21;01m.\u001b[39;00m\u001b[38;5;21;01msql_io\u001b[39;00m \u001b[38;5;28;01mimport\u001b[39;00m to_postgresql, from_postgresql, delete_postgresql_net, to_sqlite, from_sqlite\n\u001b[1;32m---> 11\u001b[0m \u001b[38;5;28;01mfrom\u001b[39;00m \u001b[38;5;21;01mpandapower\u001b[39;00m\u001b[38;5;21;01m.\u001b[39;00m\u001b[38;5;21;01mpowerflow\u001b[39;00m \u001b[38;5;28;01mimport\u001b[39;00m \u001b[38;5;241m*\u001b[39m\n\u001b[0;32m     12\u001b[0m \u001b[38;5;28;01mfrom\u001b[39;00m \u001b[38;5;21;01mpandapower\u001b[39;00m\u001b[38;5;21;01m.\u001b[39;00m\u001b[38;5;21;01moptimal_powerflow\u001b[39;00m \u001b[38;5;28;01mimport\u001b[39;00m OPFNotConverged\n\u001b[0;32m     13\u001b[0m \u001b[38;5;28;01mfrom\u001b[39;00m \u001b[38;5;21;01mpandapower\u001b[39;00m\u001b[38;5;21;01m.\u001b[39;00m\u001b[38;5;21;01mrun\u001b[39;00m \u001b[38;5;28;01mimport\u001b[39;00m \u001b[38;5;241m*\u001b[39m\n",
      "File \u001b[1;32mc:\\Users\\Paulux\\AppData\\Local\\Programs\\Python\\Python312\\Lib\\site-packages\\pandapower\\powerflow.py:13\u001b[0m\n\u001b[0;32m     11\u001b[0m \u001b[38;5;28;01mfrom\u001b[39;00m \u001b[38;5;21;01mpandapower\u001b[39;00m\u001b[38;5;21;01m.\u001b[39;00m\u001b[38;5;21;01mpd2ppc\u001b[39;00m \u001b[38;5;28;01mimport\u001b[39;00m _pd2ppc, _calc_pq_elements_and_add_on_ppc, _ppc2ppci\n\u001b[0;32m     12\u001b[0m \u001b[38;5;28;01mfrom\u001b[39;00m \u001b[38;5;21;01mpandapower\u001b[39;00m\u001b[38;5;21;01m.\u001b[39;00m\u001b[38;5;21;01mpf\u001b[39;00m\u001b[38;5;21;01m.\u001b[39;00m\u001b[38;5;21;01mppci_variables\u001b[39;00m \u001b[38;5;28;01mimport\u001b[39;00m _get_pf_variables_from_ppci\n\u001b[1;32m---> 13\u001b[0m \u001b[38;5;28;01mfrom\u001b[39;00m \u001b[38;5;21;01mpandapower\u001b[39;00m\u001b[38;5;21;01m.\u001b[39;00m\u001b[38;5;21;01mpf\u001b[39;00m\u001b[38;5;21;01m.\u001b[39;00m\u001b[38;5;21;01mrun_bfswpf\u001b[39;00m \u001b[38;5;28;01mimport\u001b[39;00m _run_bfswpf\n\u001b[0;32m     14\u001b[0m \u001b[38;5;28;01mfrom\u001b[39;00m \u001b[38;5;21;01mpandapower\u001b[39;00m\u001b[38;5;21;01m.\u001b[39;00m\u001b[38;5;21;01mpf\u001b[39;00m\u001b[38;5;21;01m.\u001b[39;00m\u001b[38;5;21;01mrun_dc_pf\u001b[39;00m \u001b[38;5;28;01mimport\u001b[39;00m _run_dc_pf\n\u001b[0;32m     15\u001b[0m \u001b[38;5;28;01mfrom\u001b[39;00m \u001b[38;5;21;01mpandapower\u001b[39;00m\u001b[38;5;21;01m.\u001b[39;00m\u001b[38;5;21;01mpf\u001b[39;00m\u001b[38;5;21;01m.\u001b[39;00m\u001b[38;5;21;01mrun_newton_raphson_pf\u001b[39;00m \u001b[38;5;28;01mimport\u001b[39;00m _run_newton_raphson_pf\n",
      "File \u001b[1;32mc:\\Users\\Paulux\\AppData\\Local\\Programs\\Python\\Python312\\Lib\\site-packages\\pandapower\\pf\\run_bfswpf.py:20\u001b[0m\n\u001b[0;32m     18\u001b[0m \u001b[38;5;28;01mfrom\u001b[39;00m \u001b[38;5;21;01mpandapower\u001b[39;00m\u001b[38;5;21;01m.\u001b[39;00m\u001b[38;5;21;01mauxiliary\u001b[39;00m \u001b[38;5;28;01mimport\u001b[39;00m ppException\n\u001b[0;32m     19\u001b[0m \u001b[38;5;28;01mfrom\u001b[39;00m \u001b[38;5;21;01mpandapower\u001b[39;00m\u001b[38;5;21;01m.\u001b[39;00m\u001b[38;5;21;01mpypower\u001b[39;00m\u001b[38;5;21;01m.\u001b[39;00m\u001b[38;5;21;01mbustypes\u001b[39;00m \u001b[38;5;28;01mimport\u001b[39;00m bustypes\n\u001b[1;32m---> 20\u001b[0m \u001b[38;5;28;01mfrom\u001b[39;00m \u001b[38;5;21;01mpandapower\u001b[39;00m\u001b[38;5;21;01m.\u001b[39;00m\u001b[38;5;21;01mpypower\u001b[39;00m\u001b[38;5;21;01m.\u001b[39;00m\u001b[38;5;21;01mnewtonpf\u001b[39;00m \u001b[38;5;28;01mimport\u001b[39;00m _evaluate_Fx, _check_for_convergence\n\u001b[0;32m     21\u001b[0m \u001b[38;5;28;01mfrom\u001b[39;00m \u001b[38;5;21;01mpandapower\u001b[39;00m\u001b[38;5;21;01m.\u001b[39;00m\u001b[38;5;21;01mpypower\u001b[39;00m\u001b[38;5;21;01m.\u001b[39;00m\u001b[38;5;21;01mpfsoln\u001b[39;00m \u001b[38;5;28;01mimport\u001b[39;00m pfsoln\n\u001b[0;32m     22\u001b[0m \u001b[38;5;28;01mfrom\u001b[39;00m \u001b[38;5;21;01mpandapower\u001b[39;00m\u001b[38;5;21;01m.\u001b[39;00m\u001b[38;5;21;01mpf\u001b[39;00m\u001b[38;5;21;01m.\u001b[39;00m\u001b[38;5;21;01mrun_newton_raphson_pf\u001b[39;00m \u001b[38;5;28;01mimport\u001b[39;00m _get_Y_bus\n",
      "File \u001b[1;32mc:\\Users\\Paulux\\AppData\\Local\\Programs\\Python\\Python312\\Lib\\site-packages\\pandapower\\pypower\\newtonpf.py:14\u001b[0m\n\u001b[0;32m     11\u001b[0m \u001b[38;5;124;03m\"\"\"Solves the power flow using a full Newton's method.\u001b[39;00m\n\u001b[0;32m     12\u001b[0m \u001b[38;5;124;03m\"\"\"\u001b[39;00m\n\u001b[0;32m     13\u001b[0m \u001b[38;5;28;01mimport\u001b[39;00m \u001b[38;5;21;01mnumpy\u001b[39;00m \u001b[38;5;28;01mas\u001b[39;00m \u001b[38;5;21;01mnp\u001b[39;00m\n\u001b[1;32m---> 14\u001b[0m \u001b[38;5;28;01mfrom\u001b[39;00m \u001b[38;5;21;01mnumpy\u001b[39;00m \u001b[38;5;28;01mimport\u001b[39;00m float64, array, angle, sqrt, square, exp, linalg, conj, r_, Inf, arange, zeros, \\\n\u001b[0;32m     15\u001b[0m     \u001b[38;5;28mmax\u001b[39m, zeros_like, column_stack, flatnonzero, nan_to_num\n\u001b[0;32m     16\u001b[0m \u001b[38;5;28;01mfrom\u001b[39;00m \u001b[38;5;21;01mscipy\u001b[39;00m\u001b[38;5;21;01m.\u001b[39;00m\u001b[38;5;21;01msparse\u001b[39;00m \u001b[38;5;28;01mimport\u001b[39;00m csr_matrix, eye, vstack\n\u001b[0;32m     17\u001b[0m \u001b[38;5;28;01mfrom\u001b[39;00m \u001b[38;5;21;01mscipy\u001b[39;00m\u001b[38;5;21;01m.\u001b[39;00m\u001b[38;5;21;01msparse\u001b[39;00m\u001b[38;5;21;01m.\u001b[39;00m\u001b[38;5;21;01mlinalg\u001b[39;00m \u001b[38;5;28;01mimport\u001b[39;00m spsolve\n",
      "\u001b[1;31mImportError\u001b[0m: cannot import name 'Inf' from 'numpy' (c:\\Users\\Paulux\\AppData\\Local\\Programs\\Python\\Python312\\Lib\\site-packages\\numpy\\__init__.py)"
     ]
    }
   ],
   "source": [
    "import numpy as np # type: ignore\n",
    "import pandas as pd # type: ignore\n",
    "import pandapower as pp # type: ignore\n",
    "import matplotlib.pyplot as plt # type: ignore \n",
    "import pandapower.plotting as plot\n"
   ]
  },
  {
   "cell_type": "code",
   "execution_count": null,
   "metadata": {},
   "outputs": [
    {
     "data": {
      "text/plain": [
       "5"
      ]
     },
     "execution_count": 191,
     "metadata": {},
     "output_type": "execute_result"
    }
   ],
   "source": [
    "#Sistema varias barras\n",
    "net = pp.create_empty_network()\n",
    "\n",
    "barra1 = pp.create_bus(net, vn_kv=110, name=\"Barra 1\")\n",
    "barra2 = pp.create_bus(net, vn_kv=220, name=\"Barra 2\")\n",
    "barra1A = pp.create_bus(net, vn_kv=220, name=\"Barra 1A\")\n",
    "barra1B = pp.create_bus(net, vn_kv=220, name=\"Barra 1B\")\n",
    "barra2A = pp.create_bus(net, vn_kv=220, name=\"Barra 2A\")\n",
    "barra2B = pp.create_bus(net, vn_kv=220, name=\"Barra 2B\")\n",
    "barra3A = pp.create_bus(net, vn_kv=220, name=\"Barra 3A\")\n",
    "\n",
    "transfo = pp.create_transformer(net, barra2, barra1, std_type=\"100 MVA 220/110 kV\")\n",
    "\n",
    "pp.create_ext_grid(net, barra1, vm_pu=1.0, va_degree= 0, name=\"Slack bus\")\n",
    "\n",
    "pp.create_load(net, barra1A, p_mw=30, q_mvar=20, name=\"Carga 1A\")\n",
    "pp.create_load(net, barra1B, p_mw=15, q_mvar=10, name=\"Carga 1B\")\n",
    "pp.create_load(net, barra2A, p_mw=52.5, q_mvar=35, name=\"Carga 2A\")\n",
    "pp.create_load(net, barra2B, p_mw=90, q_mvar=60, name=\"Carga 2B\")\n",
    "pp.create_load(net, barra3A, p_mw=22.5, q_mvar=15, name=\"Carga 3A\")\n",
    "\n",
    "\n",
    "pp.create_line(net, barra2, barra1A, length_km=10, std_type=\"N2XS(FL)2Y 1x185 RM/35 64/110 kV\", name=\"L2-1A\")\n",
    "pp.create_line(net, barra1A, barra2A, length_km=15, std_type=\"N2XS(FL)2Y 1x185 RM/35 64/110 kV\", name=\"L1A-2A\")\n",
    "pp.create_line(net, barra2A, barra3A, length_km=20, std_type=\"N2XS(FL)2Y 1x185 RM/35 64/110 kV\", name=\"L2A-3A\")\n",
    "pp.create_line(net, barra3A, barra2B, length_km=15, std_type=\"N2XS(FL)2Y 1x185 RM/35 64/110 kV\", name=\"L3A-2B\")\n",
    "pp.create_line(net, barra2B, barra1B, length_km=30, std_type=\"N2XS(FL)2Y 1x185 RM/35 64/110 kV\", name=\"L2B-1B\")\n",
    "pp.create_line(net, barra1B, barra2, length_km=10, std_type=\"N2XS(FL)2Y 1x185 RM/35 64/110 kV\", name=\"L1B-2\")"
   ]
  },
  {
   "cell_type": "code",
   "execution_count": null,
   "metadata": {},
   "outputs": [],
   "source": [
    "pp.runpp(net, algorithm='nr', numba=False,max_iteration=100)"
   ]
  },
  {
   "cell_type": "code",
   "execution_count": null,
   "metadata": {},
   "outputs": [],
   "source": [
    "net.res_line.index = net.line.name\n",
    "net.res_bus.index = net.bus.name"
   ]
  },
  {
   "cell_type": "code",
   "execution_count": null,
   "metadata": {},
   "outputs": [
    {
     "data": {
      "text/html": [
       "<div>\n",
       "<style scoped>\n",
       "    .dataframe tbody tr th:only-of-type {\n",
       "        vertical-align: middle;\n",
       "    }\n",
       "\n",
       "    .dataframe tbody tr th {\n",
       "        vertical-align: top;\n",
       "    }\n",
       "\n",
       "    .dataframe thead th {\n",
       "        text-align: right;\n",
       "    }\n",
       "</style>\n",
       "<table border=\"1\" class=\"dataframe\">\n",
       "  <thead>\n",
       "    <tr style=\"text-align: right;\">\n",
       "      <th></th>\n",
       "      <th>vm_pu</th>\n",
       "      <th>va_degree</th>\n",
       "      <th>p_mw</th>\n",
       "      <th>q_mvar</th>\n",
       "    </tr>\n",
       "    <tr>\n",
       "      <th>name</th>\n",
       "      <th></th>\n",
       "      <th></th>\n",
       "      <th></th>\n",
       "      <th></th>\n",
       "    </tr>\n",
       "  </thead>\n",
       "  <tbody>\n",
       "    <tr>\n",
       "      <th>Barra 1</th>\n",
       "      <td>1.000000</td>\n",
       "      <td>0.000000</td>\n",
       "      <td>-212.310191</td>\n",
       "      <td>5.807279</td>\n",
       "    </tr>\n",
       "    <tr>\n",
       "      <th>Barra 2</th>\n",
       "      <td>1.033380</td>\n",
       "      <td>-14.276471</td>\n",
       "      <td>0.000000</td>\n",
       "      <td>0.000000</td>\n",
       "    </tr>\n",
       "    <tr>\n",
       "      <th>Barra 1A</th>\n",
       "      <td>1.031457</td>\n",
       "      <td>-14.492303</td>\n",
       "      <td>30.000000</td>\n",
       "      <td>20.000000</td>\n",
       "    </tr>\n",
       "    <tr>\n",
       "      <th>Barra 1B</th>\n",
       "      <td>1.032375</td>\n",
       "      <td>-14.469768</td>\n",
       "      <td>15.000000</td>\n",
       "      <td>10.000000</td>\n",
       "    </tr>\n",
       "    <tr>\n",
       "      <th>Barra 2A</th>\n",
       "      <td>1.029237</td>\n",
       "      <td>-14.730336</td>\n",
       "      <td>52.500000</td>\n",
       "      <td>35.000000</td>\n",
       "    </tr>\n",
       "    <tr>\n",
       "      <th>Barra 2B</th>\n",
       "      <td>1.027435</td>\n",
       "      <td>-14.873522</td>\n",
       "      <td>90.000000</td>\n",
       "      <td>60.000000</td>\n",
       "    </tr>\n",
       "    <tr>\n",
       "      <th>Barra 3A</th>\n",
       "      <td>1.028365</td>\n",
       "      <td>-14.864945</td>\n",
       "      <td>22.500000</td>\n",
       "      <td>15.000000</td>\n",
       "    </tr>\n",
       "  </tbody>\n",
       "</table>\n",
       "</div>"
      ],
      "text/plain": [
       "             vm_pu  va_degree        p_mw     q_mvar\n",
       "name                                                \n",
       "Barra 1   1.000000   0.000000 -212.310191   5.807279\n",
       "Barra 2   1.033380 -14.276471    0.000000   0.000000\n",
       "Barra 1A  1.031457 -14.492303   30.000000  20.000000\n",
       "Barra 1B  1.032375 -14.469768   15.000000  10.000000\n",
       "Barra 2A  1.029237 -14.730336   52.500000  35.000000\n",
       "Barra 2B  1.027435 -14.873522   90.000000  60.000000\n",
       "Barra 3A  1.028365 -14.864945   22.500000  15.000000"
      ]
     },
     "execution_count": 194,
     "metadata": {},
     "output_type": "execute_result"
    }
   ],
   "source": [
    "net.res_bus"
   ]
  },
  {
   "cell_type": "code",
   "execution_count": null,
   "metadata": {},
   "outputs": [
    {
     "ename": "NameError",
     "evalue": "name 'net' is not defined",
     "output_type": "error",
     "traceback": [
      "\u001b[1;31m---------------------------------------------------------------------------\u001b[0m",
      "\u001b[1;31mNameError\u001b[0m                                 Traceback (most recent call last)",
      "Cell \u001b[1;32mIn[2], line 1\u001b[0m\n\u001b[1;32m----> 1\u001b[0m \u001b[43mnet\u001b[49m\u001b[38;5;241m.\u001b[39mtrafo\n",
      "\u001b[1;31mNameError\u001b[0m: name 'net' is not defined"
     ]
    }
   ],
   "source": []
  }
 ],
 "metadata": {
  "kernelspec": {
   "display_name": "Python 3",
   "language": "python",
   "name": "python3"
  },
  "language_info": {
   "codemirror_mode": {
    "name": "ipython",
    "version": 3
   },
   "file_extension": ".py",
   "mimetype": "text/x-python",
   "name": "python",
   "nbconvert_exporter": "python",
   "pygments_lexer": "ipython3",
   "version": "3.12.3"
  }
 },
 "nbformat": 4,
 "nbformat_minor": 2
}
