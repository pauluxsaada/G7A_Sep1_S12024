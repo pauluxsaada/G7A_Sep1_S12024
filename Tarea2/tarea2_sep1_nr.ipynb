{
 "cells": [
  {
   "cell_type": "markdown",
   "metadata": {},
   "source": [
    "# Implementación del algoritmo de Newton-Raphson"
   ]
  },
  {
   "cell_type": "markdown",
   "metadata": {},
   "source": [
    "## 0 - Aplicación de Newton-Raphson al sistema estudiado"
   ]
  },
  {
   "cell_type": "markdown",
   "metadata": {},
   "source": [
    "### Paso 1 : Importación de las librerias"
   ]
  },
  {
   "cell_type": "code",
   "execution_count": 10,
   "metadata": {},
   "outputs": [],
   "source": [
    "import numpy as np # type: ignore\n",
    "from numpy import * # type: ignore"
   ]
  },
  {
   "cell_type": "markdown",
   "metadata": {},
   "source": [
    "### Paso 2: Declaración de las variables del sistema (impedencia, potencias activas y reactivas demandadas, tensione sy angulos de inicio)"
   ]
  },
  {
   "cell_type": "code",
   "execution_count": 11,
   "metadata": {},
   "outputs": [
    {
     "name": "stdout",
     "output_type": "stream",
     "text": [
      "(0.099+0.156j)\n",
      "[[ 0.        -8333.33333333j  0.        +8333.33333333j\n",
      "   0.           +0.j          0.           +0.j\n",
      "   0.           +0.j          0.           +0.j\n",
      "   0.           +0.j        ]\n",
      " [ 0.        +8333.33333333j  0.29000791-8333.79031549j\n",
      "   4.           +0.j          0.           +0.j\n",
      "   0.           +0.j          5.           +0.j\n",
      "   0.           +0.j        ]\n",
      " [ 0.           +0.j          4.           +0.j\n",
      "   6.           +0.j          7.           +0.j\n",
      "   0.           +0.j          0.           +0.j\n",
      "   0.           +0.j        ]\n",
      " [ 0.           +0.j          0.           +0.j\n",
      "   7.           +0.j          8.           +0.j\n",
      "   9.           +0.j          0.           +0.j\n",
      "   0.           +0.j        ]\n",
      " [ 0.           +0.j          0.           +0.j\n",
      "   0.           +0.j          9.           +0.j\n",
      "  10.           +0.j          0.           +0.j\n",
      "  11.           +0.j        ]\n",
      " [ 0.           +0.j          5.           +0.j\n",
      "   0.           +0.j          0.           +0.j\n",
      "   0.           +0.j         14.           +0.j\n",
      "  13.           +0.j        ]\n",
      " [ 0.           +0.j          0.           +0.j\n",
      "   0.           +0.j          0.           +0.j\n",
      "  11.           +0.j         13.           +0.j\n",
      "  12.           +0.j        ]]\n"
     ]
    },
    {
     "ename": "TypeError",
     "evalue": "array() missing required argument 'object' (pos 0)",
     "output_type": "error",
     "traceback": [
      "\u001b[1;31m---------------------------------------------------------------------------\u001b[0m",
      "\u001b[1;31mTypeError\u001b[0m                                 Traceback (most recent call last)",
      "Cell \u001b[1;32mIn[11], line 45\u001b[0m\n\u001b[0;32m     42\u001b[0m Ybus \u001b[38;5;241m=\u001b[39m np\u001b[38;5;241m.\u001b[39mmatrix([[Y11, Y12, \u001b[38;5;241m0\u001b[39m, \u001b[38;5;241m0\u001b[39m, \u001b[38;5;241m0\u001b[39m, \u001b[38;5;241m0\u001b[39m, \u001b[38;5;241m0\u001b[39m] , [Y12, Y22, Y21A, \u001b[38;5;241m0\u001b[39m, \u001b[38;5;241m0\u001b[39m, Y21B, \u001b[38;5;241m0\u001b[39m] , [\u001b[38;5;241m0\u001b[39m, Y21A, Y1A1A, Y1A2A, \u001b[38;5;241m0\u001b[39m, \u001b[38;5;241m0\u001b[39m, \u001b[38;5;241m0\u001b[39m] , [\u001b[38;5;241m0\u001b[39m, \u001b[38;5;241m0\u001b[39m, Y1A2A, Y2A2A, Y2A3A, \u001b[38;5;241m0\u001b[39m, \u001b[38;5;241m0\u001b[39m] , [\u001b[38;5;241m0\u001b[39m, \u001b[38;5;241m0\u001b[39m, \u001b[38;5;241m0\u001b[39m ,Y2A3A ,Y3A3A ,\u001b[38;5;241m0\u001b[39m ,Y3A2B], [\u001b[38;5;241m0\u001b[39m, Y21B, \u001b[38;5;241m0\u001b[39m ,\u001b[38;5;241m0\u001b[39m ,\u001b[38;5;241m0\u001b[39m ,Y1B1B, Y2B1B] , [\u001b[38;5;241m0\u001b[39m ,\u001b[38;5;241m0\u001b[39m ,\u001b[38;5;241m0\u001b[39m ,\u001b[38;5;241m0\u001b[39m ,Y3A2B ,Y2B1B, Y2B2B]]) ; \u001b[38;5;28mprint\u001b[39m(Ybus)\n\u001b[0;32m     44\u001b[0m \u001b[38;5;66;03m#Inicialización de las tensiones y angulos\u001b[39;00m\n\u001b[1;32m---> 45\u001b[0m V \u001b[38;5;241m=\u001b[39m \u001b[43marray\u001b[49m\u001b[43m(\u001b[49m\u001b[43m)\u001b[49m;\n\u001b[0;32m     46\u001b[0m delta \u001b[38;5;241m=\u001b[39m array();\n\u001b[0;32m     48\u001b[0m \u001b[38;5;66;03m# Ejemplo de uso:\u001b[39;00m\n\u001b[0;32m     49\u001b[0m \u001b[38;5;66;03m# Definir la matriz de admitancia Ybus del sistema\u001b[39;00m\n\u001b[0;32m     50\u001b[0m \u001b[38;5;66;03m#Ybus = np.array([[complex(5, -20), complex(-10, 20)],\u001b[39;00m\n\u001b[1;32m   (...)\u001b[0m\n\u001b[0;32m     65\u001b[0m \u001b[38;5;66;03m#print('Tensiones en las barras (pu):', V)\u001b[39;00m\n\u001b[0;32m     66\u001b[0m \u001b[38;5;66;03m#print('Ángulos de las tensiones (rad):', delta)\u001b[39;00m\n",
      "\u001b[1;31mTypeError\u001b[0m: array() missing required argument 'object' (pos 0)"
     ]
    }
   ],
   "source": [
    "#Impedencia por unidad de largo de las lineas\n",
    "r_linea = 0.099 ;\n",
    "x_linea = 0.156 ;\n",
    "Z_linea = complex(r_linea, x_linea) ;\n",
    "\n",
    "#Largo de las lineas\n",
    "L21A=10;\n",
    "L1A2A=15;\n",
    "L2A3A=20;\n",
    "L3A2B=15;\n",
    "L2B1B=30;\n",
    "L1B2=10;\n",
    "\n",
    "#Calculo de impedencias de linea\n",
    "Z21A = Z_linea*L21A;\n",
    "Z1A2A = Z_linea*L1A2A ;\n",
    "Z2A3A = Z_linea*L2A3A;\n",
    "Z3A2B = Z_linea*L3A2B;\n",
    "Z2B1B = Z_linea*L2B1B;\n",
    "Z1B2 = Z_linea*L1B2;\n",
    "\n",
    "#Impedencia del transformador\n",
    "ZT = complex(0,0.0012); \n",
    "\n",
    "#Calculo de los componentes de la matriz de admitancia\n",
    "Y11 = 1/ZT ;\n",
    "Y12 = -1/ZT;\n",
    "Y22 = 1/ZT + 1/Z21A + 1/Z1B2;\n",
    "Y21A = -1/Z21A ;\n",
    "Y21B = -1/Z1B2;\n",
    "Y1A1A = 6 ; #COMPLETAR\n",
    "Y1A2A = 7; #COMPLETAR\n",
    "Y2A2A = 8; #COMPLETAR\n",
    "Y2A3A = 9; #COMPLETAR\n",
    "Y3A3A = 10; #COMPLETAR\n",
    "Y3A2B = 11; #COMPLETAR\n",
    "Y2B2B = 12; #COMPLETAR\n",
    "Y2B1B = 13; #COMPLETAR\n",
    "Y1B1B = 14; #COMPLETAR\n",
    "\n",
    "#Declaración de la matriz de admitancia\n",
    "Ybus = np.matrix([[Y11, Y12, 0, 0, 0, 0, 0] , [Y12, Y22, Y21A, 0, 0, Y21B, 0] , [0, Y21A, Y1A1A, Y1A2A, 0, 0, 0] , [0, 0, Y1A2A, Y2A2A, Y2A3A, 0, 0] , [0, 0, 0 ,Y2A3A ,Y3A3A ,0 ,Y3A2B], [0, Y21B, 0 ,0 ,0 ,Y1B1B, Y2B1B] , [0 ,0 ,0 ,0 ,Y3A2B ,Y2B1B, Y2B2B]]) ; print(Ybus)\n",
    "\n",
    "#Inicialización de las tensiones y angulos\n",
    "V = array();\n",
    "delta = array();\n",
    "\n",
    "#Definición de las potencias activas y reactivas demandadas en cada barra\n",
    "PQ = array();\n",
    "\n",
    "\n",
    "#BORRAR ESO CUANDO SE ACABA\n",
    "# Ejemplo de uso:\n",
    "# Definir la matriz de admitancia Ybus del sistema\n",
    "#Ybus = np.array([[complex(5, -20), complex(-10, 20)],\n",
    " #                [complex(-3, 20), complex(10, -20)]])\n",
    "\n",
    "# Inicializar las tensiones y ángulos\n",
    "#V = np.array([1.0, 1.0])\n",
    "#delta = np.array([0.0, 0.0])\n",
    "\n",
    "# Definir las potencias activas y reactivas demandadas (P, Q)\n",
    "#PQ = np.array([[0.0, 0.0],\n",
    " #              [-0.5, -0.3]])\n",
    "\n",
    "\n"
   ]
  },
  {
   "cell_type": "markdown",
   "metadata": {},
   "source": [
    "### Paso 3: Ejecución y resultados del algoritmo de Newton-Raphson"
   ]
  },
  {
   "cell_type": "code",
   "execution_count": null,
   "metadata": {},
   "outputs": [],
   "source": [
    "# Ejecutar el método de Newton-Raphson\n",
    "V, delta = newton_raphson(Ybus, V, delta, PQ)\n",
    "\n",
    "# Resultados\n",
    "print('Tensiones en las barras (pu):', V)\n",
    "print('Ángulos de las tensiones (rad):', delta)"
   ]
  },
  {
   "cell_type": "markdown",
   "metadata": {},
   "source": [
    "## 1 - Función de calculo de la jacobiana"
   ]
  },
  {
   "cell_type": "code",
   "execution_count": null,
   "metadata": {},
   "outputs": [],
   "source": [
    "\n",
    "def calculate_jacobian(Ybus, V, delta, PQ):\n",
    "    n = len(V)\n",
    "    J = np.zeros((2 * n, 2 * n))\n",
    "\n",
    "    for i in range(n):\n",
    "        for j in range(n):\n",
    "            if i == j:\n",
    "                for k in range(n):\n",
    "                    if k != i:\n",
    "                        J[i, i] += V[k] * (Ybus[i, k].real * np.cos(delta[i] - delta[k]) +\n",
    "                                           Ybus[i, k].imag * np.sin(delta[i] - delta[k]))\n",
    "                        J[i + n, i] += V[k] * (Ybus[i, k].real * np.sin(delta[i] - delta[k]) -\n",
    "                                               Ybus[i, k].imag * np.cos(delta[i] - delta[k]))\n",
    "                J[i, i] += V[i] * Ybus[i, i].real\n",
    "                J[i + n, i] -= V[i] * Ybus[i, i].imag\n",
    "            else:\n",
    "                J[i, j] = V[i] * V[j] * (Ybus[i, j].real * np.cos(delta[i] - delta[j]) +\n",
    "                                         Ybus[i, j].imag * np.sin(delta[i] - delta[j]))\n",
    "                J[i + n, j] = V[i] * V[j] * (Ybus[i, j].real * np.sin(delta[i] - delta[j]) -\n",
    "                                             Ybus[i, j].imag * np.cos(delta[i] - delta[j]))\n",
    "                J[i, j + n] = V[j] * (Ybus[i, j].real * np.cos(delta[i] - delta[j]) +\n",
    "                                      Ybus[i, j].imag * np.sin(delta[i] - delta[j]))\n",
    "                J[i + n, j + n] = V[j] * (Ybus[i, j].real * np.sin(delta[i] - delta[j]) -\n",
    "                                          Ybus[i, j].imag * np.cos(delta[i] - delta[j]))\n",
    "\n",
    "    return J\n"
   ]
  },
  {
   "cell_type": "markdown",
   "metadata": {},
   "source": [
    "## 2 - Funcion de calculo de la diferencia entre potencia inyecta y potencia calculada (función de error)"
   ]
  },
  {
   "cell_type": "code",
   "execution_count": null,
   "metadata": {},
   "outputs": [],
   "source": [
    "def power_mismatch(Ybus, V, delta, PQ):\n",
    "    n = len(V)\n",
    "    P = np.zeros(n)\n",
    "    Q = np.zeros(n)\n",
    "\n",
    "    for i in range(n):\n",
    "        for j in range(n):\n",
    "            P[i] += V[i] * V[j] * (Ybus[i, j].real * np.cos(delta[i] - delta[j]) +\n",
    "                                   Ybus[i, j].imag * np.sin(delta[i] - delta[j]))\n",
    "            Q[i] += V[i] * V[j] * (Ybus[i, j].real * np.sin(delta[i] - delta[j]) -\n",
    "                                   Ybus[i, j].imag * np.cos(delta[i] - delta[j]))\n",
    "\n",
    "    dP = PQ[:, 0] - P\n",
    "    dQ = PQ[:, 1] - Q\n",
    "    return np.concatenate([dP, dQ])\n"
   ]
  },
  {
   "cell_type": "markdown",
   "metadata": {},
   "source": [
    "## 3 - Funcion principal de iteraciones del algoritmo"
   ]
  },
  {
   "cell_type": "code",
   "execution_count": null,
   "metadata": {},
   "outputs": [],
   "source": [
    "def newton_raphson(Ybus, V, delta, PQ, tol=1e-6, max_iter=100):\n",
    "    n = len(V)\n",
    "    for iteration in range(max_iter):\n",
    "        mismatch = power_mismatch(Ybus, V, delta, PQ)\n",
    "        if np.linalg.norm(mismatch) < tol:\n",
    "            print(f'Tolerancia alcanzada después {iteration} iteraciones.')\n",
    "            break\n",
    "\n",
    "        J = calculate_jacobian(Ybus, V, delta, PQ)\n",
    "        update = np.linalg.solve(J, mismatch)\n",
    "        delta[:n] += update[:n]\n",
    "        V[1:] += update[n:]\n",
    "\n",
    "    return V, delta\n"
   ]
  },
  {
   "cell_type": "markdown",
   "metadata": {},
   "source": []
  }
 ],
 "metadata": {
  "kernelspec": {
   "display_name": "Python 3",
   "language": "python",
   "name": "python3"
  },
  "language_info": {
   "codemirror_mode": {
    "name": "ipython",
    "version": 3
   },
   "file_extension": ".py",
   "mimetype": "text/x-python",
   "name": "python",
   "nbconvert_exporter": "python",
   "pygments_lexer": "ipython3",
   "version": "3.12.3"
  }
 },
 "nbformat": 4,
 "nbformat_minor": 2
}
