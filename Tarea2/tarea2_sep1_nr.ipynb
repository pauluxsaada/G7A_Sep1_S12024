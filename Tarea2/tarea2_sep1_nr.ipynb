{
 "cells": [
  {
   "cell_type": "markdown",
   "metadata": {},
   "source": [
    "# Implementación del algoritmo de Newton-Raphson"
   ]
  },
  {
   "cell_type": "markdown",
   "metadata": {},
   "source": [
    "## 0 - Aplicación de Newton-Raphson al sistema estudiado"
   ]
  },
  {
   "cell_type": "markdown",
   "metadata": {},
   "source": [
    "### Paso 1 : Importación de las librerias"
   ]
  },
  {
   "cell_type": "code",
   "execution_count": 14,
   "metadata": {},
   "outputs": [],
   "source": [
    "import numpy as np # type: ignore\n",
    "import pandas as pd # type: ignore\n",
    "import pandapower as pp # type: ignore\n",
    "import matplotlib.pyplot as plt # type: ignore "
   ]
  },
  {
   "cell_type": "markdown",
   "metadata": {},
   "source": [
    "### Paso 2: Declaración de las variables del sistema (impedencia, potencias activas y reactivas demandadas, tensiones y angulos de inicio)"
   ]
  },
  {
   "cell_type": "code",
   "execution_count": 15,
   "metadata": {},
   "outputs": [
    {
     "name": "stdout",
     "output_type": "stream",
     "text": [
      "Matriz Ybus (7x7):\n",
      "                       0                           1  \\\n",
      "0  18.069305-833.143703j    -18.041806+  833.131714j   \n",
      "1 -18.041806+833.131714j  28090.834926-45050.010168j   \n",
      "2   0.000000+  0.000000j -14036.382810+22117.936550j   \n",
      "3   0.000000+  0.000000j -14036.382810+22117.936550j   \n",
      "4   0.000000+  0.000000j      0.000000+    0.000000j   \n",
      "5   0.000000+  0.000000j      0.000000+    0.000000j   \n",
      "6   0.000000+  0.000000j      0.000000+    0.000000j   \n",
      "\n",
      "                            2                           3  \\\n",
      "0      0.000000+    0.000000j      0.000000+    0.000000j   \n",
      "1 -14036.382810+22117.936550j -14036.382810+22117.936550j   \n",
      "2  23393.971351-36839.469289j      0.000000+    0.000000j   \n",
      "3      0.000000+    0.000000j  18715.177081-29452.568795j   \n",
      "4  -9357.588540+14745.291033j      0.000000+    0.000000j   \n",
      "5      0.000000+    0.000000j  -4678.794270+ 7372.645517j   \n",
      "6      0.000000+    0.000000j      0.000000+    0.000000j   \n",
      "\n",
      "                            4                           5  \\\n",
      "0      0.000000+    0.000000j      0.000000+    0.000000j   \n",
      "1      0.000000+    0.000000j      0.000000+    0.000000j   \n",
      "2  -9357.588540+14745.291033j      0.000000+    0.000000j   \n",
      "3      0.000000+    0.000000j  -4678.794270+ 7372.645517j   \n",
      "4  16375.779946-25770.997696j      0.000000+    0.000000j   \n",
      "5      0.000000+    0.000000j  14036.382810-22075.171620j   \n",
      "6  -7018.191405+11058.968275j  -9357.588540+14745.291033j   \n",
      "\n",
      "                            6  \n",
      "0      0.000000+    0.000000j  \n",
      "1      0.000000+    0.000000j  \n",
      "2      0.000000+    0.000000j  \n",
      "3      0.000000+    0.000000j  \n",
      "4  -7018.191405+11058.968275j  \n",
      "5  -9357.588540+14745.291033j  \n",
      "6  16375.779946-25770.997696j  \n"
     ]
    }
   ],
   "source": [
    "# Crear red\n",
    "net = pp.create_empty_network()\n",
    "\n",
    "# Crear barras\n",
    "barra1 = pp.create_bus(net, vn_kv=110, name=\"Barra 1\")\n",
    "barra2 = pp.create_bus(net, vn_kv=220, name=\"Barra 2\")\n",
    "barra1A = pp.create_bus(net, vn_kv=220, name=\"Barra 1A\")\n",
    "barra1B = pp.create_bus(net, vn_kv=220, name=\"Barra 1B\")\n",
    "barra2A = pp.create_bus(net, vn_kv=220, name=\"Barra 2A\")\n",
    "barra2B = pp.create_bus(net, vn_kv=220, name=\"Barra 2B\")\n",
    "barra3A = pp.create_bus(net, vn_kv=220, name=\"Barra 3A\")\n",
    "\n",
    "# Crear transformador\n",
    "pp.create_transformer(net, barra2, barra1, std_type=\"100 MVA 220/110 kV\")\n",
    "\n",
    "# Crear barra slack\n",
    "pp.create_ext_grid(net, barra1, vm_pu=1.0, name=\"Slack bus\")\n",
    "\n",
    "# Crear cargas\n",
    "pp.create_load(net, barra1A, p_mw=30, q_mvar=20, name=\"Carga 1A\")\n",
    "pp.create_load(net, barra1B, p_mw=15, q_mvar=10, name=\"Carga 1B\")\n",
    "pp.create_load(net, barra2A, p_mw=52.5, q_mvar=35, name=\"Carga 2A\")\n",
    "pp.create_load(net, barra2B, p_mw=90, q_mvar=60, name=\"Carga 2B\")\n",
    "pp.create_load(net, barra3A, p_mw=22.5, q_mvar=15, name=\"Carga 3A\")\n",
    "\n",
    "# Crear líneas\n",
    "pp.create_line(net, barra2, barra1A, length_km=10, std_type=\"N2XS(FL)2Y 1x185 RM/35 64/110 kV\", name=\"L2-1A\")\n",
    "pp.create_line(net, barra1A, barra2A, length_km=15, std_type=\"N2XS(FL)2Y 1x185 RM/35 64/110 kV\", name=\"L1A-2A\")\n",
    "pp.create_line(net, barra2A, barra3A, length_km=20, std_type=\"N2XS(FL)2Y 1x185 RM/35 64/110 kV\", name=\"L2A-3A\")\n",
    "pp.create_line(net, barra3A, barra2B, length_km=15, std_type=\"N2XS(FL)2Y 1x185 RM/35 64/110 kV\", name=\"L3A-2B\")\n",
    "pp.create_line(net, barra2B, barra1B, length_km=30, std_type=\"N2XS(FL)2Y 1x185 RM/35 64/110 kV\", name=\"L2B-1B\")\n",
    "pp.create_line(net, barra1B, barra2, length_km=10, std_type=\"N2XS(FL)2Y 1x185 RM/35 64/110 kV\", name=\"L1-B2\")\n",
    "\n",
    "pp.runpp(net,numba=False)\n",
    "\n",
    "#Potencias cargas nominal en cada barra\n",
    "P= 150\n",
    "Q= 100\n",
    "\n",
    "#creacion Ybus\n",
    "Ybus=net._ppc['internal']['Ybus']\n",
    "\n",
    "Ybus_df = pd.DataFrame(data=Ybus.todense())\n",
    "print(\"Matriz Ybus (7x7):\")\n",
    "print(Ybus_df)"
   ]
  },
  {
   "cell_type": "markdown",
   "metadata": {},
   "source": [
    "### Paso 3: Ejecución y resultados del algoritmo de Newton-Raphson"
   ]
  },
  {
   "cell_type": "code",
   "execution_count": 16,
   "metadata": {},
   "outputs": [
    {
     "name": "stdout",
     "output_type": "stream",
     "text": [
      "Convergencia alcanzada en 1 iteraciones.\n",
      "Solución: [ 1.00000000e+00  1.03338010e+00  1.03145705e+00  1.03237463e+00\n",
      "  1.02923741e+00  1.02743491e+00  1.02836460e+00  1.29142298e-18\n",
      " -2.49171429e-01 -2.52938397e-01 -2.52545089e-01 -2.57092859e-01\n",
      " -2.59591932e-01 -2.59442236e-01]\n"
     ]
    }
   ],
   "source": [
    "# Ejecutar el método de Newton-Raphson\n",
    "# Vector de valores iniciales (V y θ)\n",
    "V = net.res_bus.vm_pu.values\n",
    "angulo = net.res_bus.va_degree.values * np.pi / 180\n",
    "x = np.concatenate([V, angulo])\n",
    "\n",
    "# Resolver el sistema\n",
    "solucion = newton_raphson(Fun_pot, Jacobiano, x)\n",
    "print(\"Solución:\", solucion)"
   ]
  },
  {
   "cell_type": "markdown",
   "metadata": {},
   "source": [
    "## 1 - Función de calculo de la jacobiana"
   ]
  },
  {
   "cell_type": "code",
   "execution_count": 17,
   "metadata": {},
   "outputs": [],
   "source": [
    "\n",
    "def Jacobiano(x):\n",
    "    V = x[:len(x)//2]\n",
    "    theta = x[len(x)//2:]\n",
    "    \n",
    "    J11 = np.zeros((len(V), len(V)))\n",
    "    J12 = np.zeros((len(V), len(V)))\n",
    "    J21 = np.zeros((len(V), len(V)))\n",
    "    J22 = np.zeros((len(V), len(V)))\n",
    "    \n",
    "    for i in range(len(V)):\n",
    "        for j in range(len(V)):\n",
    "            G = Ybus[i, j].real\n",
    "            B = Ybus[i, j].imag\n",
    "            \n",
    "            if i == j:\n",
    "                for k in range(len(V)):\n",
    "                    if k != i:\n",
    "                        J11[i, j] += V[i] * V[k] * (-G * np.sin(theta[i] - theta[k]) + B * np.cos(theta[i] - theta[k]))\n",
    "                        J12[i, j] += V[k] * (G * np.cos(theta[i] - theta[k]) + B * np.sin(theta[i] - theta[k]))\n",
    "                        J21[i, j] += V[i] * V[k] * (G * np.cos(theta[i] - theta[k]) + B * np.sin(theta[i] - theta[k]))\n",
    "                        J22[i, j] += V[k] * (G * np.sin(theta[i] - theta[k]) - B * np.cos(theta[i] - theta[k]))\n",
    "                J11[i, j] += V[i] * Ybus[i, i].imag\n",
    "                J12[i, j] += V[i] * Ybus[i, i].real\n",
    "                J21[i, j] += V[i] * (-Ybus[i, i].real)\n",
    "                J22[i, j] += V[i] * Ybus[i, i].imag\n",
    "            else:\n",
    "                J11[i, j] = V[i] * V[j] * (G * np.sin(theta[i] - theta[j]) - B * np.cos(theta[i] - theta[j]))\n",
    "                J12[i, j] = V[i] * (G * np.cos(theta[i] - theta[j]) + B * np.sin(theta[i] - theta[j]))\n",
    "                J21[i, j] = V[i] * V[j] * (-G * np.cos(theta[i] - theta[j]) - B * np.sin(theta[i] - theta[j]))\n",
    "                J22[i, j] = V[i] * (G * np.sin(theta[i] - theta[j]) - B * np.cos(theta[i] - theta[j]))\n",
    "    \n",
    "    return np.block([[J11, J12], [J21, J22]])\n"
   ]
  },
  {
   "cell_type": "markdown",
   "metadata": {},
   "source": [
    "## 2 - Funcion de calculo de la diferencia entre potencia inyecta y potencia calculada (función de error)"
   ]
  },
  {
   "cell_type": "code",
   "execution_count": 18,
   "metadata": {},
   "outputs": [],
   "source": [
    "def Fun_pot(x):\n",
    "    V = x[:len(x)//2]\n",
    "    theta = x[len(x)//2:]\n",
    "    \n",
    "    P = np.zeros(len(V))\n",
    "    Q = np.zeros(len(V))\n",
    "    \n",
    "    for i in range(len(V)):\n",
    "        for j in range(len(V)):\n",
    "            G = Ybus[i, j].real\n",
    "            B = Ybus[i, j].imag\n",
    "            P[i] += V[i] * V[j] * (G * np.cos(theta[i] - theta[j]) + B * np.sin(theta[i] - theta[j]))\n",
    "            Q[i] += V[i] * V[j] * (G * np.sin(theta[i] - theta[j]) - B * np.cos(theta[i] - theta[j]))\n",
    "    \n",
    "    P_spec = net.res_bus.p_mw.values / net.sn_mva\n",
    "    Q_spec = net.res_bus.q_mvar.values / net.sn_mva\n",
    "\n",
    "    # Excluir barra slack de las ecuaciones\n",
    "    P[0] = 0\n",
    "    Q[0] = 0\n",
    "    P_spec[0] = 0\n",
    "    Q_spec[0] = 0\n",
    "    \n",
    "    return np.concatenate([-P - P_spec, -Q - Q_spec])\n"
   ]
  },
  {
   "cell_type": "markdown",
   "metadata": {},
   "source": [
    "## 3 - Funcion principal de iteraciones del algoritmo"
   ]
  },
  {
   "cell_type": "code",
   "execution_count": 19,
   "metadata": {},
   "outputs": [],
   "source": [
    "def newton_raphson(F, J, x0, tol=1e-6, max_iter=100):\n",
    "    x = x0\n",
    "    for i in range(max_iter):\n",
    "        Jx = J(x)\n",
    "        Fx = F(x)\n",
    "        delta = np.linalg.solve(Jx, -Fx)\n",
    "        x = x + delta\n",
    "        if np.linalg.norm(delta, np.inf) < tol:\n",
    "            print(f'Convergencia alcanzada en {i+1} iteraciones.')\n",
    "            break\n",
    "    else:\n",
    "        print('No se alcanzó la convergencia.')\n",
    "    return x\n"
   ]
  },
  {
   "cell_type": "markdown",
   "metadata": {},
   "source": []
  }
 ],
 "metadata": {
  "kernelspec": {
   "display_name": "Python 3",
   "language": "python",
   "name": "python3"
  },
  "language_info": {
   "codemirror_mode": {
    "name": "ipython",
    "version": 3
   },
   "file_extension": ".py",
   "mimetype": "text/x-python",
   "name": "python",
   "nbconvert_exporter": "python",
   "pygments_lexer": "ipython3",
   "version": "3.12.3"
  }
 },
 "nbformat": 4,
 "nbformat_minor": 2
}
