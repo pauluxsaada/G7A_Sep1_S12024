{
 "cells": [
  {
   "cell_type": "markdown",
   "metadata": {},
   "source": [
    "# Implementación del algoritmo de Newton-Raphson"
   ]
  },
  {
   "cell_type": "markdown",
   "metadata": {},
   "source": [
    "## 0 - Aplicación de Newton-Raphson al sistema estudiado"
   ]
  },
  {
   "cell_type": "markdown",
   "metadata": {},
   "source": [
    "### Paso 1 : Importación de las librerias"
   ]
  },
  {
   "cell_type": "code",
   "execution_count": 1,
   "metadata": {},
   "outputs": [],
   "source": [
    "import numpy as np # type: ignore\n",
    "from numpy import * # type: ignore"
   ]
  },
  {
   "cell_type": "markdown",
   "metadata": {},
   "source": [
    "### Paso 2: Declaración de las variables del sistema (impedencia, potencias activas y reactivas demandadas, tensiones y angulos de inicio)"
   ]
  },
  {
   "cell_type": "code",
   "execution_count": 12,
   "metadata": {},
   "outputs": [
    {
     "name": "stdout",
     "output_type": "stream",
     "text": [
      "[[   1.80554708 -833.32942131j   -1.80554708 +833.32942131j\n",
      "     0.           +0.j            0.           +0.j\n",
      "     0.           +0.j            0.           +0.j\n",
      "     0.           +0.j        ]\n",
      " [  -1.80554708 +833.32942131j  282.53320329-1275.68815231j\n",
      "  -140.3638281  +221.1793655j     0.           +0.j\n",
      "     0.           +0.j         -140.3638281  +221.1793655j\n",
      "     0.           +0.j        ]\n",
      " [   0.           +0.j         -140.3638281  +221.1793655j\n",
      "   233.93971351 -368.63227583j  -93.5758854  +147.45291033j\n",
      "     0.           +0.j            0.           +0.j\n",
      "     0.           +0.j        ]\n",
      " [   0.           +0.j            0.           +0.j\n",
      "   -93.5758854  +147.45291033j   93.57997631 -147.44646405j\n",
      "   -70.18191405 +110.58968275j    0.           +0.j\n",
      "     0.           +0.j        ]\n",
      " [   0.           +0.j            0.           +0.j\n",
      "     0.           +0.j          -70.18191405 +110.58968275j\n",
      "   163.75779946 -258.04259308j    0.           +0.j\n",
      "   -93.5758854  +147.45291033j]\n",
      " [   0.           +0.j         -140.3638281  +221.1793655j\n",
      "     0.           +0.j            0.           +0.j\n",
      "     0.           +0.j          187.15177081 -294.90582066j\n",
      "   -46.7879427   +73.72645517j]\n",
      " [   0.           +0.j            0.           +0.j\n",
      "     0.           +0.j            0.           +0.j\n",
      "   -93.5758854  +147.45291033j  -46.7879427   +73.72645517j\n",
      "   140.3638281  -221.1793655j ]]\n"
     ]
    }
   ],
   "source": [
    "#Impedencia por unidad de largo de las lineas\n",
    "r_linea = 0.099;\n",
    "x_linea = 0.156;\n",
    "Z_linea = complex(r_linea, x_linea)*(100/220**2);\n",
    "\n",
    "#Largo de las lineas\n",
    "L21A=10;\n",
    "L1A2A=15;\n",
    "L2A3A=20;\n",
    "L3A2B=15;\n",
    "L2B1B=30;\n",
    "L1B2=10;\n",
    "\n",
    "#Calculo de impedencias de linea\n",
    "Z21A = Z_linea*L21A;\n",
    "Z1A2A = Z_linea*L1A2A ;\n",
    "Z2A3A = Z_linea*L2A3A;\n",
    "Z3A2B = Z_linea*L3A2B;\n",
    "Z2B1B = Z_linea*L2B1B;\n",
    "Z1B2 = Z_linea*L1B2;\n",
    "\n",
    "#Impedencia del transformador\n",
    "ZT = complex(0.0000026,0.0012); #creo, hay que revisarlo bien\n",
    "\n",
    "#Calculo de los componentes de la matriz de admitancia\n",
    "Y11 = 1/ZT;\n",
    "Y12 = -1/ZT;\n",
    "Y22 = 1/ZT + 1/Z21A + 1/Z1B2;\n",
    "Y21A = -1/Z21A ;\n",
    "Y21B = -1/Z1B2;\n",
    "Y1A1A = 1/Z21A + 1/Z1A2A;\n",
    "Y1A2A = -1/Z1A2A; \n",
    "Y2A2A = 1/Z1A2A + Z2A3A; \n",
    "Y2A3A = - 1/Z2A3A; \n",
    "Y3A3A = 1/Z2A3A + 1/Z3A2B; \n",
    "Y3A2B = -1/Z3A2B; \n",
    "Y2B2B = 1/Z3A2B + 1/Z2B1B; \n",
    "Y2B1B = -1/Z2B1B; \n",
    "Y1B1B = 1/Z2B1B + 1/Z1B2 ; \n",
    "\n",
    "#Declaración de la matriz de admitancia\n",
    "Ybus = np.matrix([[Y11, Y12, 0, 0, 0, 0, 0] , [Y12, Y22, Y21A, 0, 0, Y21B, 0] , [0, Y21A, Y1A1A, Y1A2A, 0, 0, 0] , [0, 0, Y1A2A, Y2A2A, Y2A3A, 0, 0] , [0, 0, 0 ,Y2A3A ,Y3A3A ,0 ,Y3A2B], [0, Y21B, 0 ,0 ,0 ,Y1B1B, Y2B1B] , [0 ,0 ,0 ,0 ,Y3A2B ,Y2B1B, Y2B2B]]) ; print(Ybus)\n",
    "\n",
    "#Inicialización de las tensiones y angulos\n",
    "V = np.array([1.0, 1.0, 1.0, 1.0, 1.0, 1.0, 1.0]); #INCORPORAR PARAMETROS AQUI\n",
    "delta = np.array([0.0, 0.0, 0.0, 0.0, 0.0, 0.0, 0.0]); #INCORPORAR PARAMETROS AQUI\n",
    "\n",
    "#Definición de las potencias activas y reactivas demandadas en cada barra\n",
    "PQ = np.array([[0.0, 0.0], [0.0,0.0],[-0.2,-0.2],[-0.35,-0.35],[-0.15,-0.15],[-0.1,-0.1],[-0.6,-0.6]]); #INCORPORAR POTENCIAS AQUI\n",
    "\n",
    "\n",
    "#BORRAR ESO CUANDO SE ACABA\n",
    "# Ejemplo de uso:\n",
    "# Definir la matriz de admitancia Ybus del sistema\n",
    "#Ybus = np.array([[complex(5, -20), complex(-10, 20)],\n",
    " #                [complex(-3, 20), complex(10, -20)]])\n",
    "\n",
    "# Inicializar las tensiones y ángulos\n",
    "#V = np.array([1.0, 1.0])\n",
    "#delta = np.array([0.0, 0.0])\n",
    "\n",
    "# Definir las potencias activas y reactivas demandadas (P, Q)\n",
    "#PQ = np.array([[0.0, 0.0],\n",
    " #              [-0.5, -0.3]])\n",
    "\n",
    "\n"
   ]
  },
  {
   "cell_type": "markdown",
   "metadata": {},
   "source": [
    "### Paso 3: Ejecución y resultados del algoritmo de Newton-Raphson"
   ]
  },
  {
   "cell_type": "code",
   "execution_count": 10,
   "metadata": {},
   "outputs": [
    {
     "ename": "LinAlgError",
     "evalue": "Singular matrix",
     "output_type": "error",
     "traceback": [
      "\u001b[1;31m---------------------------------------------------------------------------\u001b[0m",
      "\u001b[1;31mLinAlgError\u001b[0m                               Traceback (most recent call last)",
      "Cell \u001b[1;32mIn[10], line 2\u001b[0m\n\u001b[0;32m      1\u001b[0m \u001b[38;5;66;03m# Ejecutar el método de Newton-Raphson\u001b[39;00m\n\u001b[1;32m----> 2\u001b[0m V, delta \u001b[38;5;241m=\u001b[39m \u001b[43mnewton_raphson\u001b[49m\u001b[43m(\u001b[49m\u001b[43mYbus\u001b[49m\u001b[43m,\u001b[49m\u001b[43m \u001b[49m\u001b[43mV\u001b[49m\u001b[43m,\u001b[49m\u001b[43m \u001b[49m\u001b[43mdelta\u001b[49m\u001b[43m,\u001b[49m\u001b[43m \u001b[49m\u001b[43mPQ\u001b[49m\u001b[43m)\u001b[49m \u001b[38;5;66;03m# type: ignore\u001b[39;00m\n\u001b[0;32m      4\u001b[0m \u001b[38;5;66;03m# Resultados\u001b[39;00m\n\u001b[0;32m      5\u001b[0m \u001b[38;5;28mprint\u001b[39m(\u001b[38;5;124m'\u001b[39m\u001b[38;5;124mTensiones en las barras (pu):\u001b[39m\u001b[38;5;124m'\u001b[39m, V)\n",
      "Cell \u001b[1;32mIn[5], line 10\u001b[0m, in \u001b[0;36mnewton_raphson\u001b[1;34m(Ybus, V, delta, PQ, tol, max_iter)\u001b[0m\n\u001b[0;32m      7\u001b[0m     \u001b[38;5;28;01mbreak\u001b[39;00m\n\u001b[0;32m      9\u001b[0m J \u001b[38;5;241m=\u001b[39m calculate_jacobian(Ybus, V, delta, PQ)\n\u001b[1;32m---> 10\u001b[0m update \u001b[38;5;241m=\u001b[39m \u001b[43mnp\u001b[49m\u001b[38;5;241;43m.\u001b[39;49m\u001b[43mlinalg\u001b[49m\u001b[38;5;241;43m.\u001b[39;49m\u001b[43msolve\u001b[49m\u001b[43m(\u001b[49m\u001b[43mJ\u001b[49m\u001b[43m,\u001b[49m\u001b[43m \u001b[49m\u001b[43mmismatch\u001b[49m\u001b[43m)\u001b[49m\n\u001b[0;32m     11\u001b[0m delta[:n] \u001b[38;5;241m+\u001b[39m\u001b[38;5;241m=\u001b[39m update[:n]\n\u001b[0;32m     12\u001b[0m V[\u001b[38;5;241m1\u001b[39m:] \u001b[38;5;241m+\u001b[39m\u001b[38;5;241m=\u001b[39m update[n:]\n",
      "File \u001b[1;32mc:\\Users\\Angelica\\AppData\\Local\\Programs\\Python\\Python312\\Lib\\site-packages\\numpy\\linalg\\linalg.py:409\u001b[0m, in \u001b[0;36msolve\u001b[1;34m(a, b)\u001b[0m\n\u001b[0;32m    407\u001b[0m signature \u001b[38;5;241m=\u001b[39m \u001b[38;5;124m'\u001b[39m\u001b[38;5;124mDD->D\u001b[39m\u001b[38;5;124m'\u001b[39m \u001b[38;5;28;01mif\u001b[39;00m isComplexType(t) \u001b[38;5;28;01melse\u001b[39;00m \u001b[38;5;124m'\u001b[39m\u001b[38;5;124mdd->d\u001b[39m\u001b[38;5;124m'\u001b[39m\n\u001b[0;32m    408\u001b[0m extobj \u001b[38;5;241m=\u001b[39m get_linalg_error_extobj(_raise_linalgerror_singular)\n\u001b[1;32m--> 409\u001b[0m r \u001b[38;5;241m=\u001b[39m \u001b[43mgufunc\u001b[49m\u001b[43m(\u001b[49m\u001b[43ma\u001b[49m\u001b[43m,\u001b[49m\u001b[43m \u001b[49m\u001b[43mb\u001b[49m\u001b[43m,\u001b[49m\u001b[43m \u001b[49m\u001b[43msignature\u001b[49m\u001b[38;5;241;43m=\u001b[39;49m\u001b[43msignature\u001b[49m\u001b[43m,\u001b[49m\u001b[43m \u001b[49m\u001b[43mextobj\u001b[49m\u001b[38;5;241;43m=\u001b[39;49m\u001b[43mextobj\u001b[49m\u001b[43m)\u001b[49m\n\u001b[0;32m    411\u001b[0m \u001b[38;5;28;01mreturn\u001b[39;00m wrap(r\u001b[38;5;241m.\u001b[39mastype(result_t, copy\u001b[38;5;241m=\u001b[39m\u001b[38;5;28;01mFalse\u001b[39;00m))\n",
      "File \u001b[1;32mc:\\Users\\Angelica\\AppData\\Local\\Programs\\Python\\Python312\\Lib\\site-packages\\numpy\\linalg\\linalg.py:112\u001b[0m, in \u001b[0;36m_raise_linalgerror_singular\u001b[1;34m(err, flag)\u001b[0m\n\u001b[0;32m    111\u001b[0m \u001b[38;5;28;01mdef\u001b[39;00m \u001b[38;5;21m_raise_linalgerror_singular\u001b[39m(err, flag):\n\u001b[1;32m--> 112\u001b[0m     \u001b[38;5;28;01mraise\u001b[39;00m LinAlgError(\u001b[38;5;124m\"\u001b[39m\u001b[38;5;124mSingular matrix\u001b[39m\u001b[38;5;124m\"\u001b[39m)\n",
      "\u001b[1;31mLinAlgError\u001b[0m: Singular matrix"
     ]
    }
   ],
   "source": [
    "# Ejecutar el método de Newton-Raphson\n",
    "V, delta = newton_raphson(Ybus, V, delta, PQ) # type: ignore\n",
    "\n",
    "# Resultados\n",
    "print('Tensiones en las barras (pu):', V)\n",
    "print('Ángulos de las tensiones (rad):', delta)\n"
   ]
  },
  {
   "cell_type": "markdown",
   "metadata": {},
   "source": [
    "## 1 - Función de calculo de la jacobiana"
   ]
  },
  {
   "cell_type": "code",
   "execution_count": 3,
   "metadata": {},
   "outputs": [],
   "source": [
    "\n",
    "def calculate_jacobian(Ybus, V, delta, PQ):\n",
    "    n = len(V)\n",
    "    J = np.zeros((2 * n, 2 * n))\n",
    "\n",
    "    for i in range(n):\n",
    "        for j in range(n):\n",
    "            if i == j:\n",
    "                for k in range(n):\n",
    "                    if k != i:\n",
    "                        J[i, i] += V[k] * (Ybus[i, k].real * np.cos(delta[i] - delta[k]) +\n",
    "                                           Ybus[i, k].imag * np.sin(delta[i] - delta[k]))\n",
    "                        J[i + n, i] += V[k] * (Ybus[i, k].real * np.sin(delta[i] - delta[k]) -\n",
    "                                               Ybus[i, k].imag * np.cos(delta[i] - delta[k]))\n",
    "                J[i, i] += V[i] * Ybus[i, i].real\n",
    "                J[i + n, i] -= V[i] * Ybus[i, i].imag\n",
    "            else:\n",
    "                J[i, j] = V[i] * V[j] * (Ybus[i, j].real * np.cos(delta[i] - delta[j]) +\n",
    "                                         Ybus[i, j].imag * np.sin(delta[i] - delta[j]))\n",
    "                J[i + n, j] = V[i] * V[j] * (Ybus[i, j].real * np.sin(delta[i] - delta[j]) -\n",
    "                                             Ybus[i, j].imag * np.cos(delta[i] - delta[j]))\n",
    "                J[i, j + n] = V[j] * (Ybus[i, j].real * np.cos(delta[i] - delta[j]) +\n",
    "                                      Ybus[i, j].imag * np.sin(delta[i] - delta[j]))\n",
    "                J[i + n, j + n] = V[j] * (Ybus[i, j].real * np.sin(delta[i] - delta[j]) -\n",
    "                                          Ybus[i, j].imag * np.cos(delta[i] - delta[j]))\n",
    "\n",
    "    return J\n"
   ]
  },
  {
   "cell_type": "markdown",
   "metadata": {},
   "source": [
    "## 2 - Funcion de calculo de la diferencia entre potencia inyecta y potencia calculada (función de error)"
   ]
  },
  {
   "cell_type": "code",
   "execution_count": 4,
   "metadata": {},
   "outputs": [],
   "source": [
    "def power_mismatch(Ybus, V, delta, PQ):\n",
    "    n = len(V)\n",
    "    P = np.zeros(n)\n",
    "    Q = np.zeros(n)\n",
    "\n",
    "    for i in range(n):\n",
    "        for j in range(n):\n",
    "            P[i] += V[i] * V[j] * (Ybus[i, j].real * np.cos(delta[i] - delta[j]) +\n",
    "                                   Ybus[i, j].imag * np.sin(delta[i] - delta[j]))\n",
    "            Q[i] += V[i] * V[j] * (Ybus[i, j].real * np.sin(delta[i] - delta[j]) -\n",
    "                                   Ybus[i, j].imag * np.cos(delta[i] - delta[j]))\n",
    "\n",
    "    dP = PQ[:, 0] - P\n",
    "    dQ = PQ[:, 1] - Q\n",
    "    return np.concatenate([dP, dQ])\n"
   ]
  },
  {
   "cell_type": "markdown",
   "metadata": {},
   "source": [
    "## 3 - Funcion principal de iteraciones del algoritmo"
   ]
  },
  {
   "cell_type": "code",
   "execution_count": 5,
   "metadata": {},
   "outputs": [],
   "source": [
    "def newton_raphson(Ybus, V, delta, PQ, tol=1e-6, max_iter=100):\n",
    "    n = len(V)\n",
    "    for iteration in range(max_iter):\n",
    "        mismatch = power_mismatch(Ybus, V, delta, PQ)\n",
    "        if np.linalg.norm(mismatch) < tol:\n",
    "            print(f'Tolerancia alcanzada después {iteration} iteraciones.')\n",
    "            break\n",
    "\n",
    "        J = calculate_jacobian(Ybus, V, delta, PQ)\n",
    "        update = np.linalg.solve(J, mismatch)\n",
    "        delta[:n] += update[:n]\n",
    "        V[1:] += update[n:]\n",
    "\n",
    "    return V, delta\n"
   ]
  },
  {
   "cell_type": "markdown",
   "metadata": {},
   "source": []
  }
 ],
 "metadata": {
  "kernelspec": {
   "display_name": "Python 3",
   "language": "python",
   "name": "python3"
  },
  "language_info": {
   "codemirror_mode": {
    "name": "ipython",
    "version": 3
   },
   "file_extension": ".py",
   "mimetype": "text/x-python",
   "name": "python",
   "nbconvert_exporter": "python",
   "pygments_lexer": "ipython3",
   "version": "3.12.3"
  }
 },
 "nbformat": 4,
 "nbformat_minor": 2
}
