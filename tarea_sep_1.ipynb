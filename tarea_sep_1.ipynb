{
 "cells": [
  {
   "cell_type": "code",
   "execution_count": 1,
   "metadata": {},
   "outputs": [],
   "source": [
    "import numpy as np # type: ignore\n",
    "import pandas as pd # type: ignore\n",
    "import pandapower as pp # type: ignore\n",
    "import matplotlib.pyplot as plt # type: ignore \n"
   ]
  },
  {
   "cell_type": "code",
   "execution_count": 2,
   "metadata": {},
   "outputs": [
    {
     "data": {
      "text/plain": [
       "5"
      ]
     },
     "execution_count": 2,
     "metadata": {},
     "output_type": "execute_result"
    }
   ],
   "source": [
    "net = pp.create_empty_network()\n",
    "\n",
    "barra1 = pp.create_bus(net, vn_kv=110, name=\"Barra 1\")\n",
    "barra2 = pp.create_bus(net, vn_kv=220, name=\"Barra 2\")\n",
    "barra1A = pp.create_bus(net, vn_kv=220, name=\"Barra 1A\")\n",
    "barra1B = pp.create_bus(net, vn_kv=220, name=\"Barra 1B\")\n",
    "barra2A = pp.create_bus(net, vn_kv=220, name=\"Barra 2A\")\n",
    "barra2B = pp.create_bus(net, vn_kv=220, name=\"Barra 2B\")\n",
    "barra3A = pp.create_bus(net, vn_kv=220, name=\"Barra 3A\")\n",
    "\n",
    "pp.create_transformer(net, barra2, barra1, std_type=\"100 MVA 220/110 kV\")\n",
    "\n",
    "pp.create_ext_grid(net, barra1, vm_pu=1.0, name=\"Slack bus\")\n",
    "\n",
    "pp.create_load(net, barra1A, p_mw=30, q_mvar=20, name=\"Carga 1A\")\n",
    "pp.create_load(net, barra1B, p_mw=15, q_mvar=10, name=\"Carga 1B\")\n",
    "pp.create_load(net, barra2A, p_mw=52.5, q_mvar=35, name=\"Carga 2A\")\n",
    "pp.create_load(net, barra2B, p_mw=90, q_mvar=60, name=\"Carga 2B\")\n",
    "pp.create_load(net, barra3A, p_mw=22.5, q_mvar=15, name=\"Carga 3A\")\n",
    "\n",
    "\n",
    "pp.create_line(net, barra2, barra1A, length_km=10, std_type=\"N2XS(FL)2Y 1x185 RM/35 64/110 kV\", name=\"L2-1A\")\n",
    "pp.create_line(net, barra1A, barra2A, length_km=15, std_type=\"N2XS(FL)2Y 1x185 RM/35 64/110 kV\", name=\"L1A-2A\")\n",
    "pp.create_line(net, barra2A, barra3A, length_km=20, std_type=\"N2XS(FL)2Y 1x185 RM/35 64/110 kV\", name=\"L2A-3A\")\n",
    "pp.create_line(net, barra3A, barra2B, length_km=15, std_type=\"N2XS(FL)2Y 1x185 RM/35 64/110 kV\", name=\"L3A-2B\")\n",
    "pp.create_line(net, barra2B, barra1B, length_km=30, std_type=\"N2XS(FL)2Y 1x185 RM/35 64/110 kV\", name=\"L2B-1B\")\n",
    "pp.create_line(net, barra1B, barra2, length_km=10, std_type=\"N2XS(FL)2Y 1x185 RM/35 64/110 kV\", name=\"L1-B2\")"
   ]
  },
  {
   "cell_type": "code",
   "execution_count": 13,
   "metadata": {},
   "outputs": [],
   "source": [
    "pp.runpp(net, algorithm='nr', numba=False,max_iteration=100)"
   ]
  },
  {
   "cell_type": "code",
   "execution_count": 4,
   "metadata": {},
   "outputs": [],
   "source": [
    "net.res_line.index = net.line.name\n",
    "net.res_bus.index = net.bus.name"
   ]
  },
  {
   "cell_type": "code",
   "execution_count": 5,
   "metadata": {},
   "outputs": [
    {
     "data": {
      "text/html": [
       "<div>\n",
       "<style scoped>\n",
       "    .dataframe tbody tr th:only-of-type {\n",
       "        vertical-align: middle;\n",
       "    }\n",
       "\n",
       "    .dataframe tbody tr th {\n",
       "        vertical-align: top;\n",
       "    }\n",
       "\n",
       "    .dataframe thead th {\n",
       "        text-align: right;\n",
       "    }\n",
       "</style>\n",
       "<table border=\"1\" class=\"dataframe\">\n",
       "  <thead>\n",
       "    <tr style=\"text-align: right;\">\n",
       "      <th></th>\n",
       "      <th>vm_pu</th>\n",
       "      <th>va_degree</th>\n",
       "      <th>p_mw</th>\n",
       "      <th>q_mvar</th>\n",
       "    </tr>\n",
       "    <tr>\n",
       "      <th>name</th>\n",
       "      <th></th>\n",
       "      <th></th>\n",
       "      <th></th>\n",
       "      <th></th>\n",
       "    </tr>\n",
       "  </thead>\n",
       "  <tbody>\n",
       "    <tr>\n",
       "      <th>Barra 1</th>\n",
       "      <td>1.000000</td>\n",
       "      <td>0.000000</td>\n",
       "      <td>-212.310191</td>\n",
       "      <td>5.807279</td>\n",
       "    </tr>\n",
       "    <tr>\n",
       "      <th>Barra 2</th>\n",
       "      <td>1.033380</td>\n",
       "      <td>-14.276471</td>\n",
       "      <td>0.000000</td>\n",
       "      <td>0.000000</td>\n",
       "    </tr>\n",
       "    <tr>\n",
       "      <th>Barra 1A</th>\n",
       "      <td>1.031457</td>\n",
       "      <td>-14.492303</td>\n",
       "      <td>30.000000</td>\n",
       "      <td>20.000000</td>\n",
       "    </tr>\n",
       "    <tr>\n",
       "      <th>Barra 1B</th>\n",
       "      <td>1.032375</td>\n",
       "      <td>-14.469768</td>\n",
       "      <td>15.000000</td>\n",
       "      <td>10.000000</td>\n",
       "    </tr>\n",
       "    <tr>\n",
       "      <th>Barra 2A</th>\n",
       "      <td>1.029237</td>\n",
       "      <td>-14.730336</td>\n",
       "      <td>52.500000</td>\n",
       "      <td>35.000000</td>\n",
       "    </tr>\n",
       "    <tr>\n",
       "      <th>Barra 2B</th>\n",
       "      <td>1.027435</td>\n",
       "      <td>-14.873522</td>\n",
       "      <td>90.000000</td>\n",
       "      <td>60.000000</td>\n",
       "    </tr>\n",
       "    <tr>\n",
       "      <th>Barra 3A</th>\n",
       "      <td>1.028365</td>\n",
       "      <td>-14.864945</td>\n",
       "      <td>22.500000</td>\n",
       "      <td>15.000000</td>\n",
       "    </tr>\n",
       "  </tbody>\n",
       "</table>\n",
       "</div>"
      ],
      "text/plain": [
       "             vm_pu  va_degree        p_mw     q_mvar\n",
       "name                                                \n",
       "Barra 1   1.000000   0.000000 -212.310191   5.807279\n",
       "Barra 2   1.033380 -14.276471    0.000000   0.000000\n",
       "Barra 1A  1.031457 -14.492303   30.000000  20.000000\n",
       "Barra 1B  1.032375 -14.469768   15.000000  10.000000\n",
       "Barra 2A  1.029237 -14.730336   52.500000  35.000000\n",
       "Barra 2B  1.027435 -14.873522   90.000000  60.000000\n",
       "Barra 3A  1.028365 -14.864945   22.500000  15.000000"
      ]
     },
     "execution_count": 5,
     "metadata": {},
     "output_type": "execute_result"
    }
   ],
   "source": [
    "net.res_bus"
   ]
  },
  {
   "cell_type": "code",
   "execution_count": 6,
   "metadata": {},
   "outputs": [
    {
     "data": {
      "image/png": "[encoded data removed]",
      "text/plain": [
       "<Figure size 640x480 with 1 Axes>"
      ]
     },
     "metadata": {},
     "output_type": "display_data"
    }
   ],
   "source": [
    "df = net.res_bus\n",
    "\n",
    "df['vm_pu'][2:7].plot(kind='line')\n",
    "plt.title('grafico de cargas')\n",
    "plt.xlabel('Barras')\n",
    "plt.ylabel('valores')\n",
    "plt.show()"
   ]
  },
  {
   "cell_type": "code",
   "execution_count": 22,
   "metadata": {},
   "outputs": [],
   "source": [
    "#sistema 2 barras\n",
    "\n",
    "red = pp.create_empty_network()\n",
    "\n",
    "bar1 = pp.create_bus(red, vn_kv=500, name=\"Barra 1\")\n",
    "bar2 = pp.create_bus(red, vn_kv=500, name=\"Barra 2\")\n",
    "\n",
    "pp.create_ext_grid(red, bar1, vm_pu=1.0, name=\"Generador\")\n",
    "\n",
    "pp.create_line_from_parameters(red, bar1, bar2, length_km=500, r_ohm_per_km=0.02, x_ohm_per_km=0.115, c_nf_per_km=19.1, max_i_ka=1)\n",
    "pp.create_line_from_parameters(red, bar1, bar2, length_km=500, r_ohm_per_km=0.02, x_ohm_per_km=0.115, c_nf_per_km=19.1, max_i_ka=1)\n",
    "\n",
    "pp.create_load(red, bar2, p_mw=1.08, q_mvar=0.523, name=\"Carga\")\n",
    "\n",
    "pp.runpp(red, algorithm='nr', numba=False,max_iteration=100)"
   ]
  },
  {
   "cell_type": "code",
   "execution_count": 23,
   "metadata": {},
   "outputs": [
    {
     "data": {
      "text/html": [
       "<div>\n",
       "<style scoped>\n",
       "    .dataframe tbody tr th:only-of-type {\n",
       "        vertical-align: middle;\n",
       "    }\n",
       "\n",
       "    .dataframe tbody tr th {\n",
       "        vertical-align: top;\n",
       "    }\n",
       "\n",
       "    .dataframe thead th {\n",
       "        text-align: right;\n",
       "    }\n",
       "</style>\n",
       "<table border=\"1\" class=\"dataframe\">\n",
       "  <thead>\n",
       "    <tr style=\"text-align: right;\">\n",
       "      <th></th>\n",
       "      <th>vm_pu</th>\n",
       "      <th>va_degree</th>\n",
       "      <th>p_mw</th>\n",
       "      <th>q_mvar</th>\n",
       "    </tr>\n",
       "    <tr>\n",
       "      <th>name</th>\n",
       "      <th></th>\n",
       "      <th></th>\n",
       "      <th></th>\n",
       "      <th></th>\n",
       "    </tr>\n",
       "  </thead>\n",
       "  <tbody>\n",
       "    <tr>\n",
       "      <th>Barra 1</th>\n",
       "      <td>1.000000</td>\n",
       "      <td>0.000000</td>\n",
       "      <td>-14.534853</td>\n",
       "      <td>1570.135345</td>\n",
       "    </tr>\n",
       "    <tr>\n",
       "      <th>Barra 2</th>\n",
       "      <td>1.094168</td>\n",
       "      <td>-0.946436</td>\n",
       "      <td>1.080000</td>\n",
       "      <td>0.523000</td>\n",
       "    </tr>\n",
       "  </tbody>\n",
       "</table>\n",
       "</div>"
      ],
      "text/plain": [
       "            vm_pu  va_degree       p_mw       q_mvar\n",
       "name                                                \n",
       "Barra 1  1.000000   0.000000 -14.534853  1570.135345\n",
       "Barra 2  1.094168  -0.946436   1.080000     0.523000"
      ]
     },
     "execution_count": 23,
     "metadata": {},
     "output_type": "execute_result"
    }
   ],
   "source": [
    "red.res_line.index = red.line.name\n",
    "red.res_bus.index = red.bus.name\n",
    "\n",
    "red.res_bus"
   ]
  },
  {
   "cell_type": "code",
   "execution_count": 31,
   "metadata": {},
   "outputs": [
    {
     "data": {
      "image/png": "[encoded data removed]",
      "text/plain": [
       "<Figure size 640x480 with 1 Axes>"
      ]
     },
     "metadata": {},
     "output_type": "display_data"
    }
   ],
   "source": [
    "df = red.res_bus\n",
    "\n",
    "df['vm_pu'].plot(kind='line')\n",
    "plt.title('grafico de cargas')\n",
    "plt.xlabel('Barras')\n",
    "plt.ylabel('valores')\n",
    "plt.show()"
   ]
  }
 ],
 "metadata": {
  "kernelspec": {
   "display_name": "Python 3",
   "language": "python",
   "name": "python3"
  },
  "language_info": {
   "codemirror_mode": {
    "name": "ipython",
    "version": 3
   },
   "file_extension": ".py",
   "mimetype": "text/x-python",
   "name": "python",
   "nbconvert_exporter": "python",
   "pygments_lexer": "ipython3",
   "version": "3.12.3"
  }
 },
 "nbformat": 4,
 "nbformat_minor": 2
}
